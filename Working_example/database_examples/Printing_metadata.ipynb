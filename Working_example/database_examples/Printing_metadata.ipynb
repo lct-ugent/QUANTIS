{
 "cells": [
  {
   "cell_type": "code",
   "execution_count": 1,
   "metadata": {},
   "outputs": [],
   "source": [
    "import sys, os\n",
    "import pandas as pd\n",
    "sys.path.append('../..')\n",
    "\n",
    "from writers.hdf5_write import metadata_from_hdf5"
   ]
  },
  {
   "cell_type": "code",
   "execution_count": 3,
   "metadata": {},
   "outputs": [],
   "source": [
    "path_name = r'../propane_offline'\n",
    "file_name = r'propane_DMDS_23_12_2015.h5'\n",
    "\n",
    "full_path_file = os.path.join(path_name, file_name)\n",
    "store = pd.HDFStore(full_path_file)"
   ]
  },
  {
   "cell_type": "code",
   "execution_count": 4,
   "metadata": {},
   "outputs": [],
   "source": [
    "metadata_propane = metadata_from_hdf5(store)"
   ]
  },
  {
   "cell_type": "code",
   "execution_count": 5,
   "metadata": {
    "scrolled": false
   },
   "outputs": [
    {
     "name": "stdout",
     "output_type": "stream",
     "text": [
      "Researcher_exp:\n",
      "\tResearcher 1\n",
      "\n",
      "Researcher_proc:\n",
      "\tResearcher 2\n",
      "\n",
      "Campaign_kinetic:\n",
      "\tkinetic\n",
      "\n",
      "Confidential:\n",
      "\tno\n",
      "\n",
      "Date_processing:\n",
      "\t07/24/19\n",
      "\n",
      "Dates:\n",
      "\t['23/12/2015', '24/12/2015']\n",
      "\n",
      "Detector_LOA:\n",
      "\tno\n",
      "\n",
      "Detector_NCD:\n",
      "\tno\n",
      "\n",
      "Detector_SCD:\n",
      "\tno\n",
      "\n",
      "Diluent_total_flow (g/h):\n",
      "\t[60]\n",
      "\n",
      "Diluents:\n",
      "\t['O']\n",
      "\n",
      "Diluents_flows (g/h):\n",
      "\t{'1S/H2O/h1H2': array([60], dtype=int64)}\n",
      "\n",
      "End_time:\n",
      "\t23/12/2015 17:45\n",
      "\n",
      "Feed_rate_total_flow (g/h):\n",
      "\t[130]\n",
      "\n",
      "Feeds:\n",
      "\t['CCC']\n",
      "\n",
      "Feeds_flows (g/h):\n",
      "\t{'1S/C3H8/c1-3-2/h3H2,1-2H3': array([130], dtype=int64)}\n",
      "\n",
      "GC_processor_HDF5_version:\n",
      "\tv0.3.0\n",
      "\n",
      "Mass_spectrum_available:\n",
      "\tno\n",
      "\n",
      "Pressures (bara):\n",
      "\t1.7\n",
      "\n",
      "Published:\n",
      "\tno\n",
      "\n",
      "Reactor:\n",
      "\tBSSC_metal\n",
      "\n",
      "Reliability (1-5):\n",
      "\t1\n",
      "\n",
      "Remarks:\n",
      "\tMy first experiment\n",
      "\n",
      "Start_time:\n",
      "\t23/12/2015 13:00\n",
      "\n",
      "Temperatures (°C):\n",
      "\t[800, 825, 850, 875]\n",
      "\n"
     ]
    }
   ],
   "source": [
    "print(metadata_propane)"
   ]
  },
  {
   "cell_type": "code",
   "execution_count": null,
   "metadata": {},
   "outputs": [],
   "source": []
  }
 ],
 "metadata": {
  "kernelspec": {
   "display_name": "Python 3",
   "language": "python",
   "name": "python3"
  },
  "language_info": {
   "codemirror_mode": {
    "name": "ipython",
    "version": 3
   },
   "file_extension": ".py",
   "mimetype": "text/x-python",
   "name": "python",
   "nbconvert_exporter": "python",
   "pygments_lexer": "ipython3",
   "version": "3.5.5"
  }
 },
 "nbformat": 4,
 "nbformat_minor": 2
}
